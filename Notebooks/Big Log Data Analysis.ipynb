{
 "cells": [
  {
   "cell_type": "code",
   "execution_count": 2,
   "metadata": {},
   "outputs": [],
   "source": [
    "import matplotlib.pyplot as plt\n",
    "from numpy import genfromtxt\n",
    "import numpy as np"
   ]
  },
  {
   "cell_type": "code",
   "execution_count": 4,
   "metadata": {},
   "outputs": [],
   "source": [
    "ordered_human_raw = genfromtxt('BigLogData/Ordered_human.txt', delimiter=',')   \n",
    "ordered_vanilla_raw = genfromtxt('BigLogData/Ordered_vanilla.txt', delimiter=',')   \n",
    "random_human_raw = genfromtxt('BigLogData/Random_human.txt', delimiter=',')   \n",
    "random_vanilla_raw = genfromtxt('BigLogData/Random_vanilla.txt', delimiter=',')   \n",
    "snapshot_raw = genfromtxt('BigLogData/Snapshots.txt', delimiter=',')\n",
    "\n",
    "all_data = {\"ordered_human\": ordered_human_raw,\n",
    "            \"ordered_vanilla\": ordered_vanilla_raw,\n",
    "            \"random_human\": random_human_raw,\n",
    "            \"random_vanilla\": random_vanilla_raw,\n",
    "            \"snapshot\": snapshot_raw}"
   ]
  },
  {
   "cell_type": "code",
   "execution_count": 5,
   "metadata": {},
   "outputs": [
    {
     "name": "stdout",
     "output_type": "stream",
     "text": [
      "There total of 22500 runs.\n",
      "Every timestep had 15 models.\n",
      "Every model was tested 100 times.\n",
      "Every timestep was tested 1500 times.\n"
     ]
    },
    {
     "data": {
      "text/plain": [
       "(22500, 3)"
      ]
     },
     "execution_count": 5,
     "metadata": {},
     "output_type": "execute_result"
    }
   ],
   "source": [
    "total_runs = 22500\n",
    "\n",
    "num_time_steps = 15\n",
    "models_per_timestep = 15\n",
    "tests_per_model = 100\n",
    "tests_per_timestep = models_per_timestep * tests_per_model\n",
    "\n",
    "print(f\"There total of {total_runs} runs.\")\n",
    "print(f\"Every timestep had {models_per_timestep} models.\")\n",
    "print(f\"Every model was tested {tests_per_model} times.\")\n",
    "print(f\"Every timestep was tested {tests_per_timestep} times.\")\n",
    "ordered_human_raw.shape"
   ]
  },
  {
   "cell_type": "code",
   "execution_count": 6,
   "metadata": {},
   "outputs": [
    {
     "name": "stdout",
     "output_type": "stream",
     "text": [
      "Total number of victories over all runs in ordered_human is 8224.0 which is 36.6%\n",
      "Total number of victories over all runs in ordered_vanilla is 1390.0 which is 6.2%\n",
      "Total number of victories over all runs in random_human is 3842.0 which is 17.1%\n",
      "Total number of victories over all runs in random_vanilla is 951.0 which is 4.2%\n",
      "Total number of victories over all runs in snapshot is 1883.0 which is 8.4%\n"
     ]
    }
   ],
   "source": [
    "for name, data in all_data.items():\n",
    "    sum_vic = sum(data.transpose()[2])\n",
    "    percent_vic = float(sum_vic)/total_runs * 100\n",
    "    print(f\"Total number of victories over all runs in {name} is {sum_vic} which is {percent_vic:.1f}%\")"
   ]
  },
  {
   "cell_type": "code",
   "execution_count": 8,
   "metadata": {},
   "outputs": [
    {
     "name": "stdout",
     "output_type": "stream",
     "text": [
      "The results of ordered_human are:\n",
      "\t 5000: 0.0\n",
      "\t 10000: 0.0\n",
      "\t 15000: 0.0\n",
      "\t 20000: 0.0\n",
      "\t 25000: 223.0\n",
      "\t 30000: 468.0\n",
      "\t 35000: 251.0\n",
      "\t 40000: 234.0\n",
      "\t 45000: 824.0\n",
      "\t 50000: 760.0\n",
      "\t 55000: 848.0\n",
      "\t 60000: 1155.0\n",
      "\t 65000: 1234.0\n",
      "\t 70000: 1114.0\n",
      "\t 75000: 1113.0\n",
      "The results of ordered_vanilla are:\n",
      "\t 5000: 0.0\n",
      "\t 10000: 0.0\n",
      "\t 15000: 0.0\n",
      "\t 20000: 0.0\n",
      "\t 25000: 0.0\n",
      "\t 30000: 0.0\n",
      "\t 35000: 180.0\n",
      "\t 40000: 0.0\n",
      "\t 45000: 100.0\n",
      "\t 50000: 251.0\n",
      "\t 55000: 142.0\n",
      "\t 60000: 68.0\n",
      "\t 65000: 108.0\n",
      "\t 70000: 197.0\n",
      "\t 75000: 344.0\n",
      "The results of random_human are:\n",
      "\t 5000: 0.0\n",
      "\t 10000: 0.0\n",
      "\t 15000: 0.0\n",
      "\t 20000: 0.0\n",
      "\t 25000: 0.0\n",
      "\t 30000: 0.0\n",
      "\t 35000: 0.0\n",
      "\t 40000: 0.0\n",
      "\t 45000: 25.0\n",
      "\t 50000: 402.0\n",
      "\t 55000: 385.0\n",
      "\t 60000: 683.0\n",
      "\t 65000: 646.0\n",
      "\t 70000: 1049.0\n",
      "\t 75000: 652.0\n",
      "The results of random_vanilla are:\n",
      "\t 5000: 96.0\n",
      "\t 10000: 0.0\n",
      "\t 15000: 0.0\n",
      "\t 20000: 0.0\n",
      "\t 25000: 0.0\n",
      "\t 30000: 0.0\n",
      "\t 35000: 100.0\n",
      "\t 40000: 82.0\n",
      "\t 45000: 0.0\n",
      "\t 50000: 31.0\n",
      "\t 55000: 11.0\n",
      "\t 60000: 62.0\n",
      "\t 65000: 61.0\n",
      "\t 70000: 154.0\n",
      "\t 75000: 354.0\n",
      "The results of snapshot are:\n",
      "\t 5000: 0.0\n",
      "\t 10000: 0.0\n",
      "\t 15000: 0.0\n",
      "\t 20000: 0.0\n",
      "\t 25000: 0.0\n",
      "\t 30000: 104.0\n",
      "\t 35000: 77.0\n",
      "\t 40000: 199.0\n",
      "\t 45000: 0.0\n",
      "\t 50000: 97.0\n",
      "\t 55000: 192.0\n",
      "\t 60000: 121.0\n",
      "\t 65000: 305.0\n",
      "\t 70000: 189.0\n",
      "\t 75000: 599.0\n"
     ]
    }
   ],
   "source": [
    "split_data_dict = dict()\n",
    "for name, data in all_data.items():\n",
    "    split_data = np.array(np.split(data, num_time_steps))\n",
    "    print(f\"The results of {name} are:\")\n",
    "    treatment_data_list = []\n",
    "    for timestep in range(num_time_steps):\n",
    "        sum_vic_timestep = sum(split_data[timestep,:,2])\n",
    "        print(f\"\\t {(timestep+1) * 5000}: {sum_vic_timestep}\")\n",
    "        treatment_data_list.append(sum_vic_timestep)\n",
    "    split_data_dict[name] = np.array(treatment_data_list) "
   ]
  },
  {
   "cell_type": "code",
   "execution_count": 101,
   "metadata": {},
   "outputs": [
    {
     "data": {
      "text/plain": [
       "1234.0"
      ]
     },
     "execution_count": 101,
     "metadata": {},
     "output_type": "execute_result"
    }
   ],
   "source": [
    "split_data_dict[\"ordered_human\"][12]\n"
   ]
  },
  {
   "cell_type": "code",
   "execution_count": 9,
   "metadata": {},
   "outputs": [
    {
     "data": {
      "image/png": "[encoded data removed]",
      "text/plain": [
       "<Figure size 432x288 with 1 Axes>"
      ]
     },
     "metadata": {},
     "output_type": "display_data"
    },
    {
     "data": {
      "image/png": "[encoded data removed]",
      "text/plain": [
       "<Figure size 432x288 with 1 Axes>"
      ]
     },
     "metadata": {},
     "output_type": "display_data"
    },
    {
     "data": {
      "image/png": "[encoded data removed]",
      "text/plain": [
       "<Figure size 432x288 with 1 Axes>"
      ]
     },
     "metadata": {},
     "output_type": "display_data"
    },
    {
     "data": {
      "image/png": "[encoded data removed]",
      "text/plain": [
       "<Figure size 432x288 with 1 Axes>"
      ]
     },
     "metadata": {},
     "output_type": "display_data"
    },
    {
     "data": {
      "image/png": "[encoded data removed]",
      "text/plain": [
       "<Figure size 432x288 with 1 Axes>"
      ]
     },
     "metadata": {},
     "output_type": "display_data"
    }
   ],
   "source": [
    "for name, data in split_data_dict.items():\n",
    "    x_range = (list(range(15)))\n",
    "    plt.bar(x_range, data)\n",
    "    plt.ylabel('Number of Successes')\n",
    "    plt.title(f'{name}')\n",
    "    plt.ylim((0, 1500))\n",
    "    plt.show()"
   ]
  },
  {
   "cell_type": "code",
   "execution_count": 17,
   "metadata": {},
   "outputs": [
    {
     "ename": "ValueError",
     "evalue": "shape mismatch: objects cannot be broadcast to a single shape",
     "output_type": "error",
     "traceback": [
      "\u001b[0;31m---------------------------------------------------------------------------\u001b[0m",
      "\u001b[0;31mValueError\u001b[0m                                Traceback (most recent call last)",
      "\u001b[0;32m<ipython-input-17-c7a2d524c1e3>\u001b[0m in \u001b[0;36m<module>\u001b[0;34m()\u001b[0m\n\u001b[1;32m     21\u001b[0m                  \u001b[0malpha\u001b[0m\u001b[0;34m=\u001b[0m\u001b[0mopacity\u001b[0m\u001b[0;34m,\u001b[0m\u001b[0;34m\u001b[0m\u001b[0m\n\u001b[1;32m     22\u001b[0m                  \u001b[0mcolor\u001b[0m\u001b[0;34m=\u001b[0m\u001b[0;34m'#757473'\u001b[0m\u001b[0;34m,\u001b[0m\u001b[0;34m\u001b[0m\u001b[0m\n\u001b[0;32m---> 23\u001b[0;31m                  label='ordered_vanilla')\n\u001b[0m\u001b[1;32m     24\u001b[0m \u001b[0;34m\u001b[0m\u001b[0m\n\u001b[1;32m     25\u001b[0m \u001b[0;31m# rects3 = plt.bar(x_range+ 2*bar_width, list(split_data_dict.values())[2], bar_width,\u001b[0m\u001b[0;34m\u001b[0m\u001b[0;34m\u001b[0m\u001b[0m\n",
      "\u001b[0;32m~/anaconda3/lib/python3.6/site-packages/matplotlib/pyplot.py\u001b[0m in \u001b[0;36mbar\u001b[0;34m(*args, **kwargs)\u001b[0m\n\u001b[1;32m   2768\u001b[0m                       mplDeprecation)\n\u001b[1;32m   2769\u001b[0m     \u001b[0;32mtry\u001b[0m\u001b[0;34m:\u001b[0m\u001b[0;34m\u001b[0m\u001b[0m\n\u001b[0;32m-> 2770\u001b[0;31m         \u001b[0mret\u001b[0m \u001b[0;34m=\u001b[0m \u001b[0max\u001b[0m\u001b[0;34m.\u001b[0m\u001b[0mbar\u001b[0m\u001b[0;34m(\u001b[0m\u001b[0;34m*\u001b[0m\u001b[0margs\u001b[0m\u001b[0;34m,\u001b[0m \u001b[0;34m**\u001b[0m\u001b[0mkwargs\u001b[0m\u001b[0;34m)\u001b[0m\u001b[0;34m\u001b[0m\u001b[0m\n\u001b[0m\u001b[1;32m   2771\u001b[0m     \u001b[0;32mfinally\u001b[0m\u001b[0;34m:\u001b[0m\u001b[0;34m\u001b[0m\u001b[0m\n\u001b[1;32m   2772\u001b[0m         \u001b[0max\u001b[0m\u001b[0;34m.\u001b[0m\u001b[0m_hold\u001b[0m \u001b[0;34m=\u001b[0m \u001b[0mwashold\u001b[0m\u001b[0;34m\u001b[0m\u001b[0m\n",
      "\u001b[0;32m~/anaconda3/lib/python3.6/site-packages/matplotlib/__init__.py\u001b[0m in \u001b[0;36minner\u001b[0;34m(ax, *args, **kwargs)\u001b[0m\n\u001b[1;32m   1853\u001b[0m                         \u001b[0;34m\"the Matplotlib list!)\"\u001b[0m \u001b[0;34m%\u001b[0m \u001b[0;34m(\u001b[0m\u001b[0mlabel_namer\u001b[0m\u001b[0;34m,\u001b[0m \u001b[0mfunc\u001b[0m\u001b[0;34m.\u001b[0m\u001b[0m__name__\u001b[0m\u001b[0;34m)\u001b[0m\u001b[0;34m,\u001b[0m\u001b[0;34m\u001b[0m\u001b[0m\n\u001b[1;32m   1854\u001b[0m                         RuntimeWarning, stacklevel=2)\n\u001b[0;32m-> 1855\u001b[0;31m             \u001b[0;32mreturn\u001b[0m \u001b[0mfunc\u001b[0m\u001b[0;34m(\u001b[0m\u001b[0max\u001b[0m\u001b[0;34m,\u001b[0m \u001b[0;34m*\u001b[0m\u001b[0margs\u001b[0m\u001b[0;34m,\u001b[0m \u001b[0;34m**\u001b[0m\u001b[0mkwargs\u001b[0m\u001b[0;34m)\u001b[0m\u001b[0;34m\u001b[0m\u001b[0m\n\u001b[0m\u001b[1;32m   1856\u001b[0m \u001b[0;34m\u001b[0m\u001b[0m\n\u001b[1;32m   1857\u001b[0m         inner.__doc__ = _add_data_doc(inner.__doc__,\n",
      "\u001b[0;32m~/anaconda3/lib/python3.6/site-packages/matplotlib/axes/_axes.py\u001b[0m in \u001b[0;36mbar\u001b[0;34m(self, *args, **kwargs)\u001b[0m\n\u001b[1;32m   2231\u001b[0m         x, height, width, y, linewidth = np.broadcast_arrays(\n\u001b[1;32m   2232\u001b[0m             \u001b[0;31m# Make args iterable too.\u001b[0m\u001b[0;34m\u001b[0m\u001b[0;34m\u001b[0m\u001b[0m\n\u001b[0;32m-> 2233\u001b[0;31m             np.atleast_1d(x), height, width, y, linewidth)\n\u001b[0m\u001b[1;32m   2234\u001b[0m \u001b[0;34m\u001b[0m\u001b[0m\n\u001b[1;32m   2235\u001b[0m         \u001b[0;31m# Now that units have been converted, set the tick locations.\u001b[0m\u001b[0;34m\u001b[0m\u001b[0;34m\u001b[0m\u001b[0m\n",
      "\u001b[0;32m~/anaconda3/lib/python3.6/site-packages/numpy/lib/stride_tricks.py\u001b[0m in \u001b[0;36mbroadcast_arrays\u001b[0;34m(*args, **kwargs)\u001b[0m\n\u001b[1;32m    247\u001b[0m     \u001b[0margs\u001b[0m \u001b[0;34m=\u001b[0m \u001b[0;34m[\u001b[0m\u001b[0mnp\u001b[0m\u001b[0;34m.\u001b[0m\u001b[0marray\u001b[0m\u001b[0;34m(\u001b[0m\u001b[0m_m\u001b[0m\u001b[0;34m,\u001b[0m \u001b[0mcopy\u001b[0m\u001b[0;34m=\u001b[0m\u001b[0;32mFalse\u001b[0m\u001b[0;34m,\u001b[0m \u001b[0msubok\u001b[0m\u001b[0;34m=\u001b[0m\u001b[0msubok\u001b[0m\u001b[0;34m)\u001b[0m \u001b[0;32mfor\u001b[0m \u001b[0m_m\u001b[0m \u001b[0;32min\u001b[0m \u001b[0margs\u001b[0m\u001b[0;34m]\u001b[0m\u001b[0;34m\u001b[0m\u001b[0m\n\u001b[1;32m    248\u001b[0m \u001b[0;34m\u001b[0m\u001b[0m\n\u001b[0;32m--> 249\u001b[0;31m     \u001b[0mshape\u001b[0m \u001b[0;34m=\u001b[0m \u001b[0m_broadcast_shape\u001b[0m\u001b[0;34m(\u001b[0m\u001b[0;34m*\u001b[0m\u001b[0margs\u001b[0m\u001b[0;34m)\u001b[0m\u001b[0;34m\u001b[0m\u001b[0m\n\u001b[0m\u001b[1;32m    250\u001b[0m \u001b[0;34m\u001b[0m\u001b[0m\n\u001b[1;32m    251\u001b[0m     \u001b[0;32mif\u001b[0m \u001b[0mall\u001b[0m\u001b[0;34m(\u001b[0m\u001b[0marray\u001b[0m\u001b[0;34m.\u001b[0m\u001b[0mshape\u001b[0m \u001b[0;34m==\u001b[0m \u001b[0mshape\u001b[0m \u001b[0;32mfor\u001b[0m \u001b[0marray\u001b[0m \u001b[0;32min\u001b[0m \u001b[0margs\u001b[0m\u001b[0;34m)\u001b[0m\u001b[0;34m:\u001b[0m\u001b[0;34m\u001b[0m\u001b[0m\n",
      "\u001b[0;32m~/anaconda3/lib/python3.6/site-packages/numpy/lib/stride_tricks.py\u001b[0m in \u001b[0;36m_broadcast_shape\u001b[0;34m(*args)\u001b[0m\n\u001b[1;32m    182\u001b[0m     \u001b[0;31m# use the old-iterator because np.nditer does not handle size 0 arrays\u001b[0m\u001b[0;34m\u001b[0m\u001b[0;34m\u001b[0m\u001b[0m\n\u001b[1;32m    183\u001b[0m     \u001b[0;31m# consistently\u001b[0m\u001b[0;34m\u001b[0m\u001b[0;34m\u001b[0m\u001b[0m\n\u001b[0;32m--> 184\u001b[0;31m     \u001b[0mb\u001b[0m \u001b[0;34m=\u001b[0m \u001b[0mnp\u001b[0m\u001b[0;34m.\u001b[0m\u001b[0mbroadcast\u001b[0m\u001b[0;34m(\u001b[0m\u001b[0;34m*\u001b[0m\u001b[0margs\u001b[0m\u001b[0;34m[\u001b[0m\u001b[0;34m:\u001b[0m\u001b[0;36m32\u001b[0m\u001b[0;34m]\u001b[0m\u001b[0;34m)\u001b[0m\u001b[0;34m\u001b[0m\u001b[0m\n\u001b[0m\u001b[1;32m    185\u001b[0m     \u001b[0;31m# unfortunately, it cannot handle 32 or more arguments directly\u001b[0m\u001b[0;34m\u001b[0m\u001b[0;34m\u001b[0m\u001b[0m\n\u001b[1;32m    186\u001b[0m     \u001b[0;32mfor\u001b[0m \u001b[0mpos\u001b[0m \u001b[0;32min\u001b[0m \u001b[0mrange\u001b[0m\u001b[0;34m(\u001b[0m\u001b[0;36m32\u001b[0m\u001b[0;34m,\u001b[0m \u001b[0mlen\u001b[0m\u001b[0;34m(\u001b[0m\u001b[0margs\u001b[0m\u001b[0;34m)\u001b[0m\u001b[0;34m,\u001b[0m \u001b[0;36m31\u001b[0m\u001b[0;34m)\u001b[0m\u001b[0;34m:\u001b[0m\u001b[0;34m\u001b[0m\u001b[0m\n",
      "\u001b[0;31mValueError\u001b[0m: shape mismatch: objects cannot be broadcast to a single shape"
     ]
    },
    {
     "data": {
      "image/png": "[encoded data removed]",
      "text/plain": [
       "<Figure size 432x288 with 1 Axes>"
      ]
     },
     "metadata": {},
     "output_type": "display_data"
    }
   ],
   "source": [
    "# data to plot\n",
    "n_groups = 15\n",
    "\n",
    "# create plot\n",
    "fig, ax = plt.subplots()\n",
    "index = np.arange(n_groups)\n",
    "bar_width = 0.3\n",
    "opacity = 0.8\n",
    "\n",
    "x_range = np.array(list(range(15)))\n",
    "plt.ylabel('Number of Successes')\n",
    "\n",
    "plt.ylim((0, 1500))\n",
    " \n",
    "# rects1 = plt.bar(x_range, list(split_data_dict.values())[0], bar_width,\n",
    "#                  alpha=opacity,\n",
    "#                  color='b',\n",
    "#                  label='ordered_human')\n",
    " \n",
    "rects2 = plt.bar(x_range + bar_width, list(split_data_dict.values())[1], bar_width,\n",
    "                 alpha=opacity,\n",
    "                 color='#757473',\n",
    "                 label='ordered_vanilla')\n",
    "\n",
    "# rects3 = plt.bar(x_range+ 2*bar_width, list(split_data_dict.values())[2], bar_width,\n",
    "#                  alpha=opacity,\n",
    "#                  color='r',\n",
    "#                  label='random_human')\n",
    "\n",
    "rects4 = plt.bar(x_range+2*bar_width, list(split_data_dict.values())[3], bar_width,\n",
    "                 alpha=opacity,\n",
    "                 color='#3b3a39',\n",
    "                 label='random_vanilla')\n",
    "\n",
    "rects5 = plt.bar(x_range+3*bar_width, list(split_data_dict.values())[4], bar_width,\n",
    "                 alpha=opacity,\n",
    "                 color='r',\n",
    "                 label='snapshots')\n",
    " \n",
    "plt.title('Scores by person')\n",
    "plt.xticks(index + bar_width, x_range)\n",
    "plt.legend()\n",
    " \n",
    "plt.tight_layout()\n",
    "plt.show()\n"
   ]
  },
  {
   "cell_type": "code",
   "execution_count": null,
   "metadata": {},
   "outputs": [],
   "source": []
  }
 ],
 "metadata": {
  "kernelspec": {
   "display_name": "Python 3",
   "language": "python",
   "name": "python3"
  },
  "language_info": {
   "codemirror_mode": {
    "name": "ipython",
    "version": 3
   },
   "file_extension": ".py",
   "mimetype": "text/x-python",
   "name": "python",
   "nbconvert_exporter": "python",
   "pygments_lexer": "ipython3",
   "version": "3.6.5"
  }
 },
 "nbformat": 4,
 "nbformat_minor": 2
}
